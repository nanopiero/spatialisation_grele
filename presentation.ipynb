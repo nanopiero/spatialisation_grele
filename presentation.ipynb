{
  "cells": [
    {
      "cell_type": "markdown",
      "id": "2666ea13-a0b5-42ba-ba46-8624ed2cb995",
      "metadata": {
        "id": "2666ea13-a0b5-42ba-ba46-8624ed2cb995"
      },
      "source": [
        "# Spatialization of hail detection"
      ]
    },
    {
      "cell_type": "markdown",
      "source": [
        "## A.Imports"
      ],
      "metadata": {
        "id": "qLOiEZhpEXEd"
      },
      "id": "qLOiEZhpEXEd"
    },
    {
      "cell_type": "code",
      "source": [
        "import torch\n",
        "import numpy as np\n",
        "import matplotlib.pyplot as plt"
      ],
      "metadata": {
        "id": "6n2YmAgdpTfY"
      },
      "id": "6n2YmAgdpTfY",
      "execution_count": 39,
      "outputs": []
    },
    {
      "cell_type": "code",
      "execution_count": null,
      "id": "c81b943d-4b2f-4314-9f4a-d53631db4cce",
      "metadata": {
        "id": "c81b943d-4b2f-4314-9f4a-d53631db4cce",
        "colab": {
          "base_uri": "https://localhost:8080/"
        },
        "outputId": "c9093213-e803-4961-fea7-30a8f68d28c8"
      },
      "outputs": [
        {
          "output_type": "stream",
          "name": "stdout",
          "text": [
            "Cloning into 'spatialisation_grele'...\n",
            "remote: Enumerating objects: 3, done.\u001b[K\n",
            "remote: Counting objects: 100% (3/3), done.\u001b[K\n",
            "remote: Compressing objects: 100% (3/3), done.\u001b[K\n",
            "remote: Total 3 (delta 0), reused 0 (delta 0), pack-reused 0\u001b[K\n",
            "Receiving objects: 100% (3/3), done.\n"
          ]
        }
      ],
      "source": [
        "! git clone https://github.com/nanopiero/spatialisation_grele"
      ]
    },
    {
      "cell_type": "code",
      "execution_count": 2,
      "id": "560c719f-acc0-400d-a30a-deb84e2a6085",
      "metadata": {
        "id": "560c719f-acc0-400d-a30a-deb84e2a6085",
        "colab": {
          "base_uri": "https://localhost:8080/"
        },
        "outputId": "c3adf254-d9e2-4c4f-a10e-edcb5df1c81e"
      },
      "outputs": [
        {
          "output_type": "stream",
          "name": "stdout",
          "text": [
            "ls: cannot access 'spatialisation_grele': No such file or directory\n"
          ]
        }
      ],
      "source": [
        "! ls spatialisation_grele"
      ]
    },
    {
      "cell_type": "markdown",
      "source": [
        "## B. Terms of the machine learning problem"
      ],
      "metadata": {
        "id": "mAsAdLwzz3MQ"
      },
      "id": "mAsAdLwzz3MQ"
    },
    {
      "cell_type": "code",
      "source": [
        "#!/usr/bin/env python3\n",
        "# -*- coding: utf-8 -*-\n"
      ],
      "metadata": {
        "id": "RUlGlUnAPCho"
      },
      "id": "RUlGlUnAPCho",
      "execution_count": 3,
      "outputs": []
    },
    {
      "cell_type": "code",
      "source": [
        "#!/usr/bin/env python3\n",
        "# -*- coding: utf-8 -*-\n",
        "\"\"\"\n",
        "30/06/2024\n",
        "@author: lepetit\n",
        "\"\"\"\n",
        "from random import randint\n",
        "import os\n",
        "import torch\n",
        "import torch.nn.functional as F\n",
        "import numpy as np\n",
        "import matplotlib.pyplot as plt\n",
        "import copy\n",
        "from numba import jit, float32\n",
        "from numpy.random import randint\n",
        "\n",
        "####################################################\n",
        "########## generation on the fly with JIT ##########\n",
        "####################################################\n",
        "use_jitc = True\n",
        "\n",
        "@jit(nopython=use_jitc, cache=True)\n",
        "def pseudo_meshgrid(size):\n",
        "  b = np.arange(0, size).repeat(size).reshape(1,size,size)\n",
        "  a = np.transpose(b, (0,2,1))\n",
        "  return  a.astype(np.float32), b.astype(np.float32)\n",
        "\n",
        "@jit(nopython=use_jitc, cache=True)\n",
        "def generate_cell_and_hail_characteristics(nsteps, size, pseudo_size, centered,\n",
        "                                           relative_advection_speed,\n",
        "                                           smajor_axis_k=None,\n",
        "                                           eccentricity_k=None,\n",
        "                                           theta_increment=None,\n",
        "                                           intensity=None\n",
        "                                           ):\n",
        "    # Choose k\n",
        "    if centered:\n",
        "      k = np.random.randint(nsteps//3, nsteps-nsteps//3)\n",
        "    else:\n",
        "      k = np.random.randint(1, nsteps-1)\n",
        "\n",
        "    # Generate the kth major_axis, minor_axis,  center, rotation, focus, and radius\n",
        "    if smajor_axis_k is None:\n",
        "      smajor_axis_k = float32(np.random.uniform(5, 20))\n",
        "\n",
        "    if centered:\n",
        "      center_k = np.array([size // 2, size //2 ]).astype(np.float32)\n",
        "    else:\n",
        "      ray_max = (pseudo_size - 3*smajor_axis_k) // 2\n",
        "      center_k = np.array([size // 2, size //2 ]) + (2*np.random.random(2) - 1) * ray_max\n",
        "      center_k = center_k.astype(np.float32)\n",
        "\n",
        "    if eccentricity_k is None:\n",
        "      eccentricity_k = float32(0.2 + 0.8 * np.random.rand())\n",
        "\n",
        "    theta_k = float32(np.pi * np.random.rand())\n",
        "\n",
        "    # Generate advection speed and radius increment\n",
        "    if centered:\n",
        "      relative_advection_speed = 2*np.random.normal(0, 3, 2).astype(np.float32)\n",
        "      advection_speed = np.zeros(2).astype(np.float32)\n",
        "    else:\n",
        "      advection_speed = (2*np.random.normal(0, 3, 2) - relative_advection_speed).astype(np.float32)\n",
        "\n",
        "    smajor_axis_increment = float32(np.random.normal(0, 1/nsteps))\n",
        "    eccentricity_increment = float32(2/nsteps * np.random.rand())\n",
        "\n",
        "    if theta_increment is None:\n",
        "      theta_increment = float32(np.random.normal(0, np.pi/nsteps))\n",
        "\n",
        "    # Fill centers and radii arrays\n",
        "    arange_nsteps = np.arange(nsteps).astype(np.float32)\n",
        "    abs_centers = center_k[0] + (arange_nsteps - k) * advection_speed[0]\n",
        "    ord_centers = center_k[1] + (arange_nsteps - k) * advection_speed[1]\n",
        "\n",
        "    smajor_axis = smajor_axis_k + (arange_nsteps - k) * smajor_axis_increment\n",
        "    smajor_axis[smajor_axis <= 0] = 0.\n",
        "    eccentricity = eccentricity_k  +  (arange_nsteps - k) * eccentricity_increment\n",
        "    eccentricity[eccentricity <= 0] = -1*eccentricity[eccentricity <= 0]\n",
        "    eccentricity[eccentricity >= 0.9] = 0.9\n",
        "    theta = theta_k  +  (arange_nsteps - k) * theta_increment\n",
        "    # Get intensity of the cell and hail characteristics:\n",
        "    ratio_radius = float32(0.3)\n",
        "    if intensity is None:\n",
        "      intensity = float32(np.random.uniform(0.3,0.8))\n",
        "\n",
        "    radius = ratio_radius * eccentricity * smajor_axis\n",
        "    hail_steps = (intensity > 0.5) * (theta_increment <= 0) * (radius > 2) * (radius < 4)\n",
        "    hail_size = float32(10/(size**2) * np.pi) * smajor_axis**2 * np.sqrt(1 - eccentricity**2) # hail size prop to the area\n",
        "\n",
        "    return abs_centers, ord_centers, smajor_axis, eccentricity, \\\n",
        "           theta, theta_increment, intensity, hail_steps, hail_size, radius\n",
        "\n",
        "\n",
        "@jit(nopython=use_jitc, cache=True)\n",
        "def closest_nonzero_index(x: np.array) -> int:\n",
        "    # Ensure x is a 1D tensor\n",
        "\n",
        "    D = x.shape[0]\n",
        "    mid_index = D // 2\n",
        "\n",
        "    # Find all non-zero indices\n",
        "    nonzero_indices = np.nonzero(x)[0]\n",
        "\n",
        "    # If there are no non-zero elements, return -1 or handle as needed\n",
        "    if len(nonzero_indices) == 0:\n",
        "        return -1\n",
        "\n",
        "    # Find the non-zero index closest to D//2\n",
        "    distances = np.abs(nonzero_indices - mid_index)\n",
        "    closest_index = nonzero_indices[np.argmin(distances)].item()\n",
        "    return closest_index\n",
        "\n",
        "\n",
        "@jit(nopython=use_jitc, cache=True)\n",
        "def select_random_nonzero_pixel(x):\n",
        "    # Find all non-zero indices\n",
        "    non_zero_indices = np.argwhere(x != 0)\n",
        "\n",
        "    # Select a random index from the non-zero indices\n",
        "    random_index = non_zero_indices[np.random.randint(len(non_zero_indices))]\n",
        "\n",
        "    return random_index\n",
        "\n",
        "@jit(nopython=use_jitc, cache=True)\n",
        "def ground_truth_to_reports(two_circles, centered, freq_reports, toss=False):\n",
        "  if centered and toss: # at least one report\n",
        "    when_hail = np.sum(two_circles.reshape(two_circles.shape[0],-1), axis=1)  > 0\n",
        "    where_report = closest_nonzero_index(when_hail)\n",
        "    random_index = select_random_nonzero_pixel(two_circles[where_report])\n",
        "    value = two_circles[where_report, random_index[0], random_index[1]].item()\n",
        "\n",
        "\n",
        "  thresh = 0.\n",
        "  reports = np.random.binomial(1, freq_reports, two_circles.shape).astype(np.float32)\n",
        "  reports *= two_circles\n",
        "  # print('sum reports', reports.sum())\n",
        "\n",
        "  if centered and toss:\n",
        "    two_circles[where_report, random_index[0], random_index[1]] = value\n",
        "\n",
        "  return reports.sum(axis=0)\n",
        "\n",
        "\n",
        "@jit(nopython=use_jitc, cache=True)\n",
        "def simu_moving_ellipse(image, reports, a, b,\n",
        "                        pseudo_size,\n",
        "                        stratification=None,\n",
        "                        centered=False, relative_advection_speed=np.zeros(2),\n",
        "                        add_target=True,\n",
        "                        freq_occurrence=0.5,\n",
        "                        freq_reports=0.5):\n",
        "\n",
        "  nsteps, size, _ = image.shape\n",
        "  toss = False\n",
        "\n",
        "  if stratification is None:\n",
        "    abs_centers, ord_centers, smajor_axis, eccentricity, \\\n",
        "      theta, theta_increment, intensity, hail_steps, hail_size, radius = \\\n",
        "      generate_cell_and_hail_characteristics(nsteps, size, pseudo_size, centered, relative_advection_speed)\n",
        "    hail_steps_sum = hail_steps.sum()\n",
        "\n",
        "  elif stratification == 'occurrence':\n",
        "    toss = (np.random.rand(1) < freq_occurrence).item()\n",
        "    if toss:\n",
        "      ratio_radius = float32(0.3)\n",
        "      hail_step_k = False\n",
        "      while not hail_step_k:\n",
        "        smajor_axis_k = float32(np.random.uniform(5, 20))\n",
        "        eccentricity_k = float32(0.2 + 0.7 * np.random.rand())  # not beyond 0.9\n",
        "        enhancer_hail_k = ratio_radius * eccentricity_k * smajor_axis_k\n",
        "        hail_step_k = (enhancer_hail_k < 4) * (enhancer_hail_k > 2)\n",
        "      theta_increment = - float32(np.abs(np.random.normal(0, np.pi/nsteps)))\n",
        "      intensity = float32(np.random.uniform(0.5, 0.8))\n",
        "\n",
        "      abs_centers, ord_centers, smajor_axis, eccentricity, \\\n",
        "        theta, theta_increment, intensity, hail_steps, hail_size, radius = \\\n",
        "        generate_cell_and_hail_characteristics(nsteps, size, pseudo_size, centered,\n",
        "                                               relative_advection_speed,\n",
        "                                               smajor_axis_k=smajor_axis_k,\n",
        "                                               eccentricity_k=eccentricity_k,\n",
        "                                               theta_increment=theta_increment,\n",
        "                                               intensity=intensity\n",
        "                                               )\n",
        "      # print(toss, ' steps :', hail_steps, ' sizes :', hail_size, 'theta inc', theta_increment, 'intensity', intensity, 'radius', radius)\n",
        "      hail_steps_sum = hail_steps.sum()\n",
        "\n",
        "    else:\n",
        "      hail_steps_sum = 1.\n",
        "      while hail_steps_sum != 0.:\n",
        "        abs_centers, ord_centers, smajor_axis, eccentricity, \\\n",
        "          theta, theta_increment, intensity, hail_steps, hail_size, radius = \\\n",
        "          generate_cell_and_hail_characteristics(nsteps, size, pseudo_size, centered,\n",
        "                                                relative_advection_speed)\n",
        "        hail_steps_sum = hail_steps.sum()\n",
        "\n",
        "\n",
        "\n",
        "\n",
        "  elif stratification == 'size':\n",
        "    pass\n",
        "  # Make the cells:\n",
        "  delta_abs_interfocus = eccentricity * smajor_axis * np.cos(theta)\n",
        "  delta_ord_interfocus = eccentricity * smajor_axis * np.sin(theta)\n",
        "\n",
        "  abs_focus1 = abs_centers + delta_abs_interfocus\n",
        "  ord_focus1 = ord_centers + delta_ord_interfocus\n",
        "  abs_focus2 = abs_centers - delta_abs_interfocus\n",
        "  ord_focus2 = ord_centers - delta_ord_interfocus\n",
        "\n",
        "  square_distances_to_focus1 = (a - abs_focus1.reshape((nsteps, 1, 1)))**2 + \\\n",
        "                         (b - ord_focus1.reshape((nsteps, 1, 1)))**2\n",
        "  square_distances_to_focus2 = (a - abs_focus2.reshape((nsteps, 1, 1)))**2 + \\\n",
        "                         (b - ord_focus2.reshape((nsteps, 1, 1)))**2\n",
        "\n",
        "  sum_distances = np.sqrt(square_distances_to_focus1) + np.sqrt(square_distances_to_focus2)\n",
        "  ellipses =  1. * (sum_distances < 1.25*2*smajor_axis.reshape(nsteps, 1, 1))\n",
        "\n",
        "  # apply a random intensity\n",
        "  ellipses *= intensity\n",
        "\n",
        "  # Update image\n",
        "  image += ellipses\n",
        "\n",
        "  # Make ground truth\n",
        "  if hail_steps_sum > 0 and add_target:\n",
        "\n",
        "    radius = radius.reshape((nsteps, 1, 1))\n",
        "    den = 1/radius**2\n",
        "    two_circles = (radius**2 - square_distances_to_focus1) * den * (square_distances_to_focus1 < radius**2) \\\n",
        "               + (radius**2 - square_distances_to_focus2) * den * (square_distances_to_focus2 < radius**2)\n",
        "    two_circles *= hail_steps.reshape((nsteps, 1, 1))\n",
        "    # print('add_target and max ', add_target, two_circles.max())\n",
        "    # hail size prop to the area :\n",
        "    two_circles *= hail_size.reshape((nsteps, 1, 1))\n",
        "    reports += ground_truth_to_reports(two_circles, centered, freq_reports, toss)\n",
        "\n",
        "\n",
        "  return image, reports, relative_advection_speed\n",
        "\n",
        "\n",
        "@jit(nopython=use_jitc, cache=True)\n",
        "def spatialized_gt(ndiscs=5, size=64, pseudo_size=None,\n",
        "                   nsteps=60, stratification=None,\n",
        "                   centered=False, freq_occurrence=0.5,\n",
        "                  freq_reports=0.5):\n",
        "\n",
        "  if pseudo_size is None:\n",
        "    pseudo_size = size\n",
        "\n",
        "  image = np.zeros((nsteps, size, size)).astype(np.float32)\n",
        "  reports = np.zeros((1, size, size)).astype(np.float32)\n",
        "  a, b = pseudo_meshgrid(size)\n",
        "\n",
        "  if centered:\n",
        "    image, reports, relative_advection_speed0 = simu_moving_ellipse(image, reports, a, b,\n",
        "                                                           pseudo_size,\n",
        "                                                           stratification,\n",
        "                                                           centered=True,\n",
        "                                                           freq_occurrence=freq_occurrence,\n",
        "                                                           freq_reports=freq_reports\n",
        "                                                           )\n",
        "    for i in range(ndiscs - 1):\n",
        "      image, reports, _ = simu_moving_ellipse(image, reports, a, b,\n",
        "                                     pseudo_size,\n",
        "                                     centered=False,\n",
        "                                     relative_advection_speed=relative_advection_speed0,\n",
        "                                     add_target=False)\n",
        "  else:\n",
        "    image, reports, relative_advection_speed0 = simu_moving_ellipse(image, reports, a, b,\n",
        "                                                           pseudo_size,\n",
        "                                                           stratification=\"occurrence\",\n",
        "                                                           centered=False,\n",
        "                                                           freq_occurrence=freq_occurrence,\n",
        "                                                           freq_reports=freq_reports\n",
        "                                                           )\n",
        "    for i in range(ndiscs - 1):\n",
        "      image, reports, _ = simu_moving_ellipse(image, reports, a, b,\n",
        "                                              pseudo_size,\n",
        "                                              stratification,\n",
        "                                              freq_occurrence=freq_occurrence,\n",
        "                                              freq_reports=freq_reports)\n",
        "  return image, reports\n",
        "\n",
        "\n",
        "\n",
        "\n",
        "\n",
        "##############################\n",
        "########## Datasets ##########\n",
        "##############################\n",
        "\n",
        "from torch.utils.data import Dataset\n",
        "\n",
        "class HailDataset(Dataset):\n",
        "    def __init__(self, length_dataset=6400, centered=True, freq_reports=0.01):\n",
        "        \"\"\"\n",
        "        Args:\n",
        "              I need a pytorch dataset that will simply embed two numpy function that generates random tensors.\n",
        "              These functions, called spatialized_gt and create_cmls_filter are @jit decorated.\n",
        "        \"\"\"\n",
        "        self.length_dataset = length_dataset\n",
        "        self.centered = centered\n",
        "        self.ndiscs = 4\n",
        "        self.pseudo_size = 172\n",
        "        self.nsteps = 6\n",
        "        self.freq_reports= freq_reports\n",
        "\n",
        "        if centered:\n",
        "          self.stratification ='occurrence'\n",
        "          self.size_image = 64\n",
        "        else:\n",
        "          self.stratification = None\n",
        "          self.size_image = 172\n",
        "\n",
        "\n",
        "    def __len__(self):\n",
        "        return self.length_dataset\n",
        "\n",
        "    def __getitem__(self, idx):\n",
        "        image, reports = spatialized_gt(ndiscs=self.ndiscs,\n",
        "                               size=self.size_image,\n",
        "                               pseudo_size=self.pseudo_size,\n",
        "                               nsteps=self.nsteps,\n",
        "                               stratification=self.stratification,\n",
        "                               centered=self.centered,\n",
        "                               freq_reports=self.freq_reports\n",
        "                               )\n",
        "        image = torch.tensor(image)\n",
        "        reports = torch.tensor(reports)\n",
        "\n",
        "        return image, reports\n",
        "\n",
        "\n",
        "\n",
        "###################################\n",
        "########## Vizualisation ##########\n",
        "###################################\n",
        "\n",
        "import matplotlib.gridspec as gridspec\n",
        "\n",
        "def plot_images(images, ground_truth, reports):\n",
        "    # Set up the figure with GridSpec\n",
        "    fig = plt.figure(figsize=(18, 20))\n",
        "    gs = gridspec.GridSpec(6, 5, width_ratios=[1, 1, 1, 1, 2])  # Last column twice as wide\n",
        "\n",
        "    # Manually create axes array for uniform handling as before\n",
        "    axs = [fig.add_subplot(gs[i, j]) for i in range(6) for j in range(5)]\n",
        "\n",
        "    # Hide all primary spines and ticks\n",
        "    for ax in axs:\n",
        "        for spine in ax.spines.values():\n",
        "            spine.set_visible(False)\n",
        "        ax.tick_params(axis='both', which='both', left=False, right=False, top=False, bottom=False, labelleft=False, labelbottom=False)\n",
        "\n",
        "    # Image and noisy image plots\n",
        "    for i in range(3):\n",
        "        image_indices = [4*i, 4*i+1, 4*i+2, 4*i+3]\n",
        "        for j in range(4):\n",
        "            ax = axs[2*i*5 + j]\n",
        "            img = images[image_indices[j]]\n",
        "            # img_normalized = (img - np.min(img)) / (np.max(img) - np.min(img) + 0.000001)\n",
        "            ax.imshow(img, cmap='gray', aspect=1, vmin=0, vmax=1)\n",
        "            ax.axis('off')\n",
        "            ax = axs[(2*i + 1)*5  + j]\n",
        "            img = ground_truth[image_indices[j]]\n",
        "            # img_normalized = (img - np.min(img)) / (np.max(img) - np.min(img) + 0.000001)\n",
        "            ax.imshow(img, cmap='gray', aspect=1, vmin=0, vmax=1)\n",
        "            ax.axis('off')\n",
        "\n",
        "    plt.tight_layout()\n",
        "    plt.show()\n",
        "\n",
        "\n",
        "\n",
        "def plot_image_and_reports(image, reports, mode_plot_reports='occurrence'):\n",
        "    # Set up the figure with GridSpec\n",
        "    fig = plt.figure(figsize=(18, 20))\n",
        "    gs = gridspec.GridSpec(1, 7, width_ratios=[1, 1, 1, 1, 1,1,1])  # Last column twice as wide\n",
        "\n",
        "    # Manually create axes array for uniform handling as before\n",
        "    axs = [fig.add_subplot(gs[i]) for i in range(7)]\n",
        "\n",
        "    # Hide all primary spines and ticks\n",
        "    for ax in axs:\n",
        "        for spine in ax.spines.values():\n",
        "            spine.set_visible(False)\n",
        "        ax.tick_params(axis='both', which='both', left=False, right=False, top=False, bottom=False, labelleft=False, labelbottom=False)\n",
        "\n",
        "    # Image and noisy image plots\n",
        "    for i in range(6):\n",
        "      ax = axs[i]\n",
        "      img = image[i]\n",
        "      ax.imshow(img, cmap='gray', aspect=1, vmin=0, vmax=1)\n",
        "      ax.axis('off')\n",
        "    ax = axs[-1]\n",
        "    img = reports[0]\n",
        "    if mode_plot_reports =='occurrence':\n",
        "      ax.imshow(img, cmap='gray', aspect=1, vmin=0, vmax=0.00001)\n",
        "    else:\n",
        "      # 20 cm\n",
        "      ax.imshow(img, cmap='gray', aspect=1, vmin=0, vmax=0.2)\n",
        "\n",
        "    ax.axis('off')\n",
        "\n",
        "\n",
        "    plt.tight_layout()\n",
        "    plt.show()"
      ],
      "metadata": {
        "id": "Lzbg0J1ChdrG"
      },
      "id": "Lzbg0J1ChdrG",
      "execution_count": 40,
      "outputs": []
    },
    {
      "cell_type": "code",
      "source": [],
      "metadata": {
        "id": "jwv-9xJ3xOQC"
      },
      "id": "jwv-9xJ3xOQC",
      "execution_count": 20,
      "outputs": []
    },
    {
      "cell_type": "code",
      "source": [
        "S = 172\n",
        "# in the dataset :\n",
        "# image = spatialized_gt(ndiscs=4, size=S, nsteps=12)\n",
        "image, reports = spatialized_gt(ndiscs=4, size=64, pseudo_size=172, nsteps=6, stratification='occurrence', centered=True, freq_reports=0.01)\n",
        "image, reports = spatialized_gt(ndiscs=4, size=172, pseudo_size=172, nsteps=6, stratification=None, centered=False, freq_reports=0.01)\n",
        "device = torch.device('cpu')\n",
        "image = torch.tensor(image).float().to(device)\n",
        "plot_image_and_reports(image, reports)"
      ],
      "metadata": {
        "id": "AsxEdMv_ubkS",
        "colab": {
          "base_uri": "https://localhost:8080/",
          "height": 221
        },
        "outputId": "87a7899b-36ef-4ec0-bea7-2f43dc4976bd"
      },
      "id": "AsxEdMv_ubkS",
      "execution_count": 493,
      "outputs": [
        {
          "output_type": "display_data",
          "data": {
            "text/plain": [
              "<Figure size 1800x2000 with 7 Axes>"
            ],
            "image/png": "[encoded data removed]"
          },
          "metadata": {}
        }
      ]
    },
    {
      "cell_type": "code",
      "source": [
        "%%timeit -n 5 -r 1\n",
        "for _ in range(6400):\n",
        "  image, reports = spatialized_gt(ndiscs=4, size=64, pseudo_size=172, nsteps=6, stratification='occurrence', centered=True, freq_reports=0.01)"
      ],
      "metadata": {
        "id": "hXF7Oa5ib4km",
        "colab": {
          "base_uri": "https://localhost:8080/"
        },
        "outputId": "3cd51e85-2526-42b6-fbe3-3d69ab84e0b9"
      },
      "id": "hXF7Oa5ib4km",
      "execution_count": 36,
      "outputs": [
        {
          "output_type": "stream",
          "name": "stdout",
          "text": [
            "18.8 s ± 0 ns per loop (mean ± std. dev. of 1 run, 5 loops each)\n"
          ]
        }
      ]
    },
    {
      "cell_type": "code",
      "source": [
        "%%timeit -n 1 -r 1\n",
        "for _ in range(6400):\n",
        "  image, reports = spatialized_gt(ndiscs=4, size=172, pseudo_size=172, nsteps=6, stratification=None, centered=False, freq_reports=0.01)"
      ],
      "metadata": {
        "colab": {
          "base_uri": "https://localhost:8080/"
        },
        "id": "i45on3mlzUwU",
        "outputId": "a6b4b67b-34bc-4327-f4c0-525cb46b6881"
      },
      "id": "i45on3mlzUwU",
      "execution_count": 37,
      "outputs": [
        {
          "output_type": "stream",
          "name": "stdout",
          "text": [
            "2min 50s ± 0 ns per loop (mean ± std. dev. of 1 run, 1 loop each)\n"
          ]
        }
      ]
    },
    {
      "cell_type": "markdown",
      "source": [
        "The main tool is the PyTorch customized dataset `HailDataset()`. `HailDataset()` generates on the fly six consecutive pseudo-radar images  and hail reports.\n",
        "\n",
        "The consecutive pseudo-radar images contain elliptic rain cells. They are stored in 6-channel torch arrays of size `6 x S x S` (e.g., the torch array **images** below). The reports are the non-zero values (hail size in *m.*) stored in one array of size `S x S` (the torch array **reports**).\n",
        "\n",
        "`HailDataset` has two options:\n",
        "\n",
        "1. **To get small (S=64) images centered on a moving cell, pass:**\n",
        "\n",
        "   ```python\n",
        "   HailDataset(centered=True)\n",
        "   ```\n",
        "\n",
        "   In this case, the reports are related to the cell that lies in the center of the images. Please note that when there is no report (i.e., `reports == 0` on every pixel for every channel), the center cell didn't yield hail for sure. There could be other cells on the pseudo-radar images, and those cells possibly yield hail. However, there is no report coming from those cells in the array **reports**.\n",
        "\n",
        "2. **To get larger images (S=172) that are not centered, pass:**\n",
        "\n",
        "   ```python\n",
        "   HailDataset(centered=False)\n",
        "   ```\n",
        "\n",
        "   In this case, the reports could be related to any of the hailing cells."
      ],
      "metadata": {
        "id": "gtp421nI8l6a"
      },
      "id": "gtp421nI8l6a"
    },
    {
      "cell_type": "code",
      "source": [
        "# Example:\n",
        "haildataset = HailDataset(centered=False)\n",
        "batch_size = 64\n",
        "num_workers = 2\n",
        "from torch.utils.data import DataLoader\n",
        "import warnings\n",
        "warnings.filterwarnings(\"ignore\")\n",
        "dataloader = DataLoader(haildataset, batch_size=batch_size, num_workers=num_workers)\n",
        "images, reports = next(iter(dataloader))"
      ],
      "metadata": {
        "colab": {
          "base_uri": "https://localhost:8080/"
        },
        "id": "ERtEHSi2y6_w",
        "outputId": "43eea66d-0c88-459e-fd9e-90d70d9235ca"
      },
      "id": "ERtEHSi2y6_w",
      "execution_count": 23,
      "outputs": [
        {
          "output_type": "stream",
          "name": "stderr",
          "text": [
            "Exception ignored in: <function _MultiProcessingDataLoaderIter.__del__ at 0x7ecbe569d870>\n",
            "Traceback (most recent call last):\n",
            "  File \"/usr/local/lib/python3.10/dist-packages/torch/utils/data/dataloader.py\", line 1479, in __del__\n",
            "    self._shutdown_workers()\n",
            "  File \"/usr/local/lib/python3.10/dist-packages/torch/utils/data/dataloader.py\", line 1462, in _shutdown_workers\n",
            "    if w.is_alive():Exception ignored in: \n",
            "<function _MultiProcessingDataLoaderIter.__del__ at 0x7ecbe569d870>  File \"/usr/lib/python3.10/multiprocessing/process.py\", line 160, in is_alive\n",
            "\n",
            "    Traceback (most recent call last):\n",
            "assert self._parent_pid == os.getpid(), 'can only test a child process'  File \"/usr/local/lib/python3.10/dist-packages/torch/utils/data/dataloader.py\", line 1479, in __del__\n",
            "\n",
            "AssertionError    : self._shutdown_workers()can only test a child process\n",
            "\n",
            "  File \"/usr/local/lib/python3.10/dist-packages/torch/utils/data/dataloader.py\", line 1462, in _shutdown_workers\n",
            "    if w.is_alive():\n",
            "  File \"/usr/lib/python3.10/multiprocessing/process.py\", line 160, in is_alive\n",
            "    assert self._parent_pid == os.getpid(), 'can only test a child process'\n",
            "AssertionError: can only test a child process\n"
          ]
        }
      ]
    },
    {
      "cell_type": "code",
      "source": [
        "%%timeit -n 1 -r 1\n",
        "# test browse the dataset for one epoch\n",
        "for i, (images, reports) in enumerate(dataloader):\n",
        "  print(i)\n",
        "  pass"
      ],
      "metadata": {
        "colab": {
          "base_uri": "https://localhost:8080/"
        },
        "id": "A_P6b7vOzOwn",
        "outputId": "3ed165a4-92a7-49a8-bc86-4f39ee070969"
      },
      "id": "A_P6b7vOzOwn",
      "execution_count": 25,
      "outputs": [
        {
          "output_type": "stream",
          "name": "stdout",
          "text": [
            "1min 31s ± 0 ns per loop (mean ± std. dev. of 1 run, 1 loop each)\n"
          ]
        }
      ]
    },
    {
      "cell_type": "code",
      "source": [
        "from\n",
        "img = torch.tensor(images[0,...]).float()\n",
        "rpt = torch.tensor(reports[0,...]).float()\n",
        "plot_image_and_reports(img, rpt)"
      ],
      "metadata": {
        "id": "ZHGa3Gr5FZRM",
        "outputId": "4cc5b35c-a81b-42b4-f008-aae948d90c12",
        "colab": {
          "base_uri": "https://localhost:8080/",
          "height": 106
        }
      },
      "id": "ZHGa3Gr5FZRM",
      "execution_count": 44,
      "outputs": [
        {
          "output_type": "error",
          "ename": "SyntaxError",
          "evalue": "invalid syntax (<ipython-input-44-dc591571fbf8>, line 1)",
          "traceback": [
            "\u001b[0;36m  File \u001b[0;32m\"<ipython-input-44-dc591571fbf8>\"\u001b[0;36m, line \u001b[0;32m1\u001b[0m\n\u001b[0;31m    from\u001b[0m\n\u001b[0m         ^\u001b[0m\n\u001b[0;31mSyntaxError\u001b[0m\u001b[0;31m:\u001b[0m invalid syntax\n"
          ]
        }
      ]
    }
  ],
  "metadata": {
    "colab": {
      "provenance": [],
      "machine_shape": "hm"
    },
    "kernelspec": {
      "display_name": "Python 3",
      "name": "python3"
    },
    "language_info": {
      "codemirror_mode": {
        "name": "ipython",
        "version": 3
      },
      "file_extension": ".py",
      "mimetype": "text/x-python",
      "name": "python",
      "nbconvert_exporter": "python",
      "pygments_lexer": "ipython3",
      "version": "3.9.7"
    }
  },
  "nbformat": 4,
  "nbformat_minor": 5
}