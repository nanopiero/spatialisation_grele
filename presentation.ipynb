{
  "cells": [
    {
      "cell_type": "markdown",
      "id": "2666ea13-a0b5-42ba-ba46-8624ed2cb995",
      "metadata": {
        "id": "2666ea13-a0b5-42ba-ba46-8624ed2cb995"
      },
      "source": [
        "# Spatialisation methods for hail detection"
      ]
    },
    {
      "cell_type": "markdown",
      "source": [
        "## A.Imports"
      ],
      "metadata": {
        "id": "qLOiEZhpEXEd"
      },
      "id": "qLOiEZhpEXEd"
    },
    {
      "cell_type": "code",
      "source": [
        "import sys\n",
        "import numpy as np\n",
        "import matplotlib.pyplot as plt\n",
        "import torch\n",
        "from torch.utils.data import DataLoader\n",
        "import warnings\n",
        "warnings.filterwarnings(\"ignore\")"
      ],
      "metadata": {
        "id": "6n2YmAgdpTfY"
      },
      "id": "6n2YmAgdpTfY",
      "execution_count": 5,
      "outputs": []
    },
    {
      "cell_type": "code",
      "execution_count": 2,
      "id": "c81b943d-4b2f-4314-9f4a-d53631db4cce",
      "metadata": {
        "id": "c81b943d-4b2f-4314-9f4a-d53631db4cce",
        "colab": {
          "base_uri": "https://localhost:8080/"
        },
        "outputId": "39609b15-7094-4fd2-d9c3-18820bb29750"
      },
      "outputs": [
        {
          "output_type": "stream",
          "name": "stdout",
          "text": [
            "Cloning into 'spatialisation_grele'...\n",
            "remote: Enumerating objects: 42, done.\u001b[K\n",
            "remote: Counting objects: 100% (42/42), done.\u001b[K\n",
            "remote: Compressing objects: 100% (42/42), done.\u001b[K\n",
            "remote: Total 42 (delta 24), reused 0 (delta 0), pack-reused 0\u001b[K\n",
            "Receiving objects: 100% (42/42), 393.87 KiB | 3.86 MiB/s, done.\n",
            "Resolving deltas: 100% (24/24), done.\n"
          ]
        }
      ],
      "source": [
        "! git clone https://github.com/nanopiero/spatialisation_grele\n",
        "sys.path.append('spatialisation_grele')"
      ]
    },
    {
      "cell_type": "code",
      "source": [
        "from utils import HailDataset, plot_images_and_reports"
      ],
      "metadata": {
        "id": "hP9tyc8KHpfJ"
      },
      "id": "hP9tyc8KHpfJ",
      "execution_count": 3,
      "outputs": []
    },
    {
      "cell_type": "markdown",
      "source": [
        "## B. Terms of the machine learning problem"
      ],
      "metadata": {
        "id": "mAsAdLwzz3MQ"
      },
      "id": "mAsAdLwzz3MQ"
    },
    {
      "cell_type": "markdown",
      "source": [
        "The main tool is the PyTorch customized dataset `HailDataset()`. `HailDataset()` generates on the fly six consecutive pseudo-radar images  and hail reports.\n",
        "\n",
        "The consecutive pseudo-radar images contain elliptic rain cells. They are stored in 6-channel torch arrays of size `6 x S x S` (e.g., the torch array **images** below). The reports are the non-zero values (hail size in *m.*) stored in one array of size `S x S` (the torch array **reports**).\n",
        "\n",
        "`HailDataset` has two options:\n",
        "\n",
        "1. **To get small (S=64) images centered on a moving cell, pass:**\n",
        "\n",
        "   ```python\n",
        "   HailDataset(centered=True)\n",
        "   ```\n",
        "\n",
        "   In this case, the reports are related to the cell that lies in the center of the images. Please note that when there is no report (i.e., `reports == 0` on every pixel for every channel), the center cell didn't yield hail for sure. There could be other cells on the pseudo-radar images, and those cells possibly yield hail. However, there is no report coming from those cells in the array **reports**.\n",
        "\n",
        "2. **To get larger images (S=172) that are not centered, pass:**\n",
        "\n",
        "   ```python\n",
        "   HailDataset(centered=False)\n",
        "   ```\n",
        "\n",
        "In this case, the reports could be related to any of the hailing cells. The absence of reports does not necessarily mean that there is no hail."
      ],
      "metadata": {
        "id": "gtp421nI8l6a"
      },
      "id": "gtp421nI8l6a"
    },
    {
      "cell_type": "code",
      "source": [
        "# Example with centered images:\n",
        "haildataset = HailDataset(centered=True)\n",
        "batch_size = 64\n",
        "num_workers = 2\n",
        "\n",
        "# Compilation will take about 1 min\n",
        "dataloader = DataLoader(haildataset, batch_size=batch_size, num_workers=num_workers)\n",
        "images, reports = next(iter(dataloader))"
      ],
      "metadata": {
        "id": "ERtEHSi2y6_w"
      },
      "id": "ERtEHSi2y6_w",
      "execution_count": 7,
      "outputs": []
    },
    {
      "cell_type": "code",
      "source": [
        "%%timeit -n 1 -r 1\n",
        "# test browse the dataset for one epoch (100 mini-batches of size 64)\n",
        "for i, (images, reports) in enumerate(dataloader):\n",
        "  pass"
      ],
      "metadata": {
        "colab": {
          "base_uri": "https://localhost:8080/"
        },
        "id": "A_P6b7vOzOwn",
        "outputId": "4e2b7d54-f97f-41c8-e9fe-47959080d441"
      },
      "id": "A_P6b7vOzOwn",
      "execution_count": 9,
      "outputs": [
        {
          "output_type": "stream",
          "name": "stdout",
          "text": [
            "12.1 s ± 0 ns per loop (mean ± std. dev. of 1 run, 1 loop each)\n"
          ]
        }
      ]
    },
    {
      "cell_type": "code",
      "source": [
        "# plot 6 consectutive pseudo-radar images and related reports from the k th element of the mini-batch\n",
        "k = 11\n",
        "img = torch.tensor(images[k,...])\n",
        "rpt = torch.tensor(reports[k,...])\n",
        "plot_images_and_reports(img, rpt)"
      ],
      "metadata": {
        "colab": {
          "base_uri": "https://localhost:8080/",
          "height": 221
        },
        "id": "ZHGa3Gr5FZRM",
        "outputId": "a2c018ec-0fdd-487e-8c83-b590f36f4625"
      },
      "id": "ZHGa3Gr5FZRM",
      "execution_count": 21,
      "outputs": [
        {
          "output_type": "display_data",
          "data": {
            "text/plain": [
              "<Figure size 1800x2000 with 7 Axes>"
            ],
            "image/png": "[encoded data removed]"
          },
          "metadata": {}
        }
      ]
    },
    {
      "cell_type": "code",
      "source": [
        "# Example with centered=False:\n",
        "haildataset = HailDataset(centered=False)\n",
        "dataloader = DataLoader(haildataset, batch_size=batch_size, num_workers=num_workers)\n",
        "images, reports = next(iter(dataloader))"
      ],
      "metadata": {
        "id": "x9yAyE-EI8hC"
      },
      "id": "x9yAyE-EI8hC",
      "execution_count": 23,
      "outputs": []
    },
    {
      "cell_type": "code",
      "source": [
        "%%timeit -n 1 -r 1\n",
        "# test browse the dataset for one epoch (100 mini-batches of size 64)\n",
        "for i, (images, reports) in enumerate(dataloader):\n",
        "  pass"
      ],
      "metadata": {
        "colab": {
          "base_uri": "https://localhost:8080/"
        },
        "id": "ChDeQE4ZJAaH",
        "outputId": "40ccf1dc-b76b-4e4f-c9f5-ba8c0390821b"
      },
      "id": "ChDeQE4ZJAaH",
      "execution_count": 24,
      "outputs": [
        {
          "output_type": "stream",
          "name": "stdout",
          "text": [
            "1min 30s ± 0 ns per loop (mean ± std. dev. of 1 run, 1 loop each)\n"
          ]
        }
      ]
    },
    {
      "cell_type": "code",
      "source": [
        "k = 11\n",
        "img = torch.tensor(images[k,...])\n",
        "rpt = torch.tensor(reports[k,...])\n",
        "plot_images_and_reports(img, rpt)"
      ],
      "metadata": {
        "colab": {
          "base_uri": "https://localhost:8080/",
          "height": 221
        },
        "id": "9hhSfyamJFpL",
        "outputId": "10b496e1-fbb9-4b47-d7e8-4bbf58638d57"
      },
      "id": "9hhSfyamJFpL",
      "execution_count": 25,
      "outputs": [
        {
          "output_type": "display_data",
          "data": {
            "text/plain": [
              "<Figure size 1800x2000 with 7 Axes>"
            ],
            "image/png": "[encoded data removed]"
          },
          "metadata": {}
        }
      ]
    }
  ],
  "metadata": {
    "colab": {
      "provenance": [],
      "machine_shape": "hm"
    },
    "kernelspec": {
      "display_name": "Python 3",
      "name": "python3"
    },
    "language_info": {
      "codemirror_mode": {
        "name": "ipython",
        "version": 3
      },
      "file_extension": ".py",
      "mimetype": "text/x-python",
      "name": "python",
      "nbconvert_exporter": "python",
      "pygments_lexer": "ipython3",
      "version": "3.9.7"
    }
  },
  "nbformat": 4,
  "nbformat_minor": 5
}